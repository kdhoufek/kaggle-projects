{
 "cells": [
  {
   "cell_type": "code",
   "execution_count": 1,
   "id": "6a36b941",
   "metadata": {
    "_cell_guid": "b1076dfc-b9ad-4769-8c92-a6c4dae69d19",
    "_uuid": "8f2839f25d086af736a60e9eeb907d3b93b6e0e5",
    "execution": {
     "iopub.execute_input": "2024-08-19T23:54:13.197180Z",
     "iopub.status.busy": "2024-08-19T23:54:13.196776Z",
     "iopub.status.idle": "2024-08-19T23:54:14.108518Z",
     "shell.execute_reply": "2024-08-19T23:54:14.107331Z"
    },
    "papermill": {
     "duration": 0.924942,
     "end_time": "2024-08-19T23:54:14.111349",
     "exception": false,
     "start_time": "2024-08-19T23:54:13.186407",
     "status": "completed"
    },
    "tags": []
   },
   "outputs": [
    {
     "name": "stdout",
     "output_type": "stream",
     "text": [
      "/kaggle/input/playground-series-s4e8/sample_submission.csv\n",
      "/kaggle/input/playground-series-s4e8/train.csv\n",
      "/kaggle/input/playground-series-s4e8/test.csv\n"
     ]
    }
   ],
   "source": [
    "# This Python 3 environment comes with many helpful analytics libraries installed\n",
    "# It is defined by the kaggle/python Docker image: https://github.com/kaggle/docker-python\n",
    "# For example, here's several helpful packages to load\n",
    "\n",
    "import numpy as np # linear algebra\n",
    "import pandas as pd # data processing, CSV file I/O (e.g. pd.read_csv)\n",
    "\n",
    "# Input data files are available in the read-only \"../input/\" directory\n",
    "# For example, running this (by clicking run or pressing Shift+Enter) will list all files under the input directory\n",
    "\n",
    "import os\n",
    "for dirname, _, filenames in os.walk('/kaggle/input'):\n",
    "    for filename in filenames:\n",
    "        print(os.path.join(dirname, filename))\n",
    "\n",
    "# You can write up to 20GB to the current directory (/kaggle/working/) that gets preserved as output when you create a version using \"Save & Run All\" \n",
    "# You can also write temporary files to /kaggle/temp/, but they won't be saved outside of the current session"
   ]
  },
  {
   "cell_type": "code",
   "execution_count": 2,
   "id": "93a37e76",
   "metadata": {
    "execution": {
     "iopub.execute_input": "2024-08-19T23:54:14.130057Z",
     "iopub.status.busy": "2024-08-19T23:54:14.129561Z",
     "iopub.status.idle": "2024-08-19T23:54:26.173410Z",
     "shell.execute_reply": "2024-08-19T23:54:26.172305Z"
    },
    "papermill": {
     "duration": 12.056427,
     "end_time": "2024-08-19T23:54:26.176646",
     "exception": false,
     "start_time": "2024-08-19T23:54:14.120219",
     "status": "completed"
    },
    "tags": []
   },
   "outputs": [
    {
     "data": {
      "text/html": [
       "<div>\n",
       "<style scoped>\n",
       "    .dataframe tbody tr th:only-of-type {\n",
       "        vertical-align: middle;\n",
       "    }\n",
       "\n",
       "    .dataframe tbody tr th {\n",
       "        vertical-align: top;\n",
       "    }\n",
       "\n",
       "    .dataframe thead th {\n",
       "        text-align: right;\n",
       "    }\n",
       "</style>\n",
       "<table border=\"1\" class=\"dataframe\">\n",
       "  <thead>\n",
       "    <tr style=\"text-align: right;\">\n",
       "      <th></th>\n",
       "      <th>id</th>\n",
       "      <th>class</th>\n",
       "      <th>cap-diameter</th>\n",
       "      <th>cap-shape</th>\n",
       "      <th>cap-surface</th>\n",
       "      <th>cap-color</th>\n",
       "      <th>does-bruise-or-bleed</th>\n",
       "      <th>gill-attachment</th>\n",
       "      <th>gill-spacing</th>\n",
       "      <th>gill-color</th>\n",
       "      <th>...</th>\n",
       "      <th>stem-root</th>\n",
       "      <th>stem-surface</th>\n",
       "      <th>stem-color</th>\n",
       "      <th>veil-type</th>\n",
       "      <th>veil-color</th>\n",
       "      <th>has-ring</th>\n",
       "      <th>ring-type</th>\n",
       "      <th>spore-print-color</th>\n",
       "      <th>habitat</th>\n",
       "      <th>season</th>\n",
       "    </tr>\n",
       "  </thead>\n",
       "  <tbody>\n",
       "    <tr>\n",
       "      <th>0</th>\n",
       "      <td>0</td>\n",
       "      <td>e</td>\n",
       "      <td>8.80</td>\n",
       "      <td>f</td>\n",
       "      <td>s</td>\n",
       "      <td>u</td>\n",
       "      <td>f</td>\n",
       "      <td>a</td>\n",
       "      <td>c</td>\n",
       "      <td>w</td>\n",
       "      <td>...</td>\n",
       "      <td>NaN</td>\n",
       "      <td>NaN</td>\n",
       "      <td>w</td>\n",
       "      <td>NaN</td>\n",
       "      <td>NaN</td>\n",
       "      <td>f</td>\n",
       "      <td>f</td>\n",
       "      <td>NaN</td>\n",
       "      <td>d</td>\n",
       "      <td>a</td>\n",
       "    </tr>\n",
       "    <tr>\n",
       "      <th>1</th>\n",
       "      <td>1</td>\n",
       "      <td>p</td>\n",
       "      <td>4.51</td>\n",
       "      <td>x</td>\n",
       "      <td>h</td>\n",
       "      <td>o</td>\n",
       "      <td>f</td>\n",
       "      <td>a</td>\n",
       "      <td>c</td>\n",
       "      <td>n</td>\n",
       "      <td>...</td>\n",
       "      <td>NaN</td>\n",
       "      <td>y</td>\n",
       "      <td>o</td>\n",
       "      <td>NaN</td>\n",
       "      <td>NaN</td>\n",
       "      <td>t</td>\n",
       "      <td>z</td>\n",
       "      <td>NaN</td>\n",
       "      <td>d</td>\n",
       "      <td>w</td>\n",
       "    </tr>\n",
       "    <tr>\n",
       "      <th>2</th>\n",
       "      <td>2</td>\n",
       "      <td>e</td>\n",
       "      <td>6.94</td>\n",
       "      <td>f</td>\n",
       "      <td>s</td>\n",
       "      <td>b</td>\n",
       "      <td>f</td>\n",
       "      <td>x</td>\n",
       "      <td>c</td>\n",
       "      <td>w</td>\n",
       "      <td>...</td>\n",
       "      <td>NaN</td>\n",
       "      <td>s</td>\n",
       "      <td>n</td>\n",
       "      <td>NaN</td>\n",
       "      <td>NaN</td>\n",
       "      <td>f</td>\n",
       "      <td>f</td>\n",
       "      <td>NaN</td>\n",
       "      <td>l</td>\n",
       "      <td>w</td>\n",
       "    </tr>\n",
       "    <tr>\n",
       "      <th>3</th>\n",
       "      <td>3</td>\n",
       "      <td>e</td>\n",
       "      <td>3.88</td>\n",
       "      <td>f</td>\n",
       "      <td>y</td>\n",
       "      <td>g</td>\n",
       "      <td>f</td>\n",
       "      <td>s</td>\n",
       "      <td>NaN</td>\n",
       "      <td>g</td>\n",
       "      <td>...</td>\n",
       "      <td>NaN</td>\n",
       "      <td>NaN</td>\n",
       "      <td>w</td>\n",
       "      <td>NaN</td>\n",
       "      <td>NaN</td>\n",
       "      <td>f</td>\n",
       "      <td>f</td>\n",
       "      <td>NaN</td>\n",
       "      <td>d</td>\n",
       "      <td>u</td>\n",
       "    </tr>\n",
       "    <tr>\n",
       "      <th>4</th>\n",
       "      <td>4</td>\n",
       "      <td>e</td>\n",
       "      <td>5.85</td>\n",
       "      <td>x</td>\n",
       "      <td>l</td>\n",
       "      <td>w</td>\n",
       "      <td>f</td>\n",
       "      <td>d</td>\n",
       "      <td>NaN</td>\n",
       "      <td>w</td>\n",
       "      <td>...</td>\n",
       "      <td>NaN</td>\n",
       "      <td>NaN</td>\n",
       "      <td>w</td>\n",
       "      <td>NaN</td>\n",
       "      <td>NaN</td>\n",
       "      <td>f</td>\n",
       "      <td>f</td>\n",
       "      <td>NaN</td>\n",
       "      <td>g</td>\n",
       "      <td>a</td>\n",
       "    </tr>\n",
       "    <tr>\n",
       "      <th>5</th>\n",
       "      <td>5</td>\n",
       "      <td>p</td>\n",
       "      <td>4.30</td>\n",
       "      <td>x</td>\n",
       "      <td>t</td>\n",
       "      <td>n</td>\n",
       "      <td>f</td>\n",
       "      <td>s</td>\n",
       "      <td>c</td>\n",
       "      <td>n</td>\n",
       "      <td>...</td>\n",
       "      <td>NaN</td>\n",
       "      <td>NaN</td>\n",
       "      <td>w</td>\n",
       "      <td>NaN</td>\n",
       "      <td>n</td>\n",
       "      <td>t</td>\n",
       "      <td>z</td>\n",
       "      <td>NaN</td>\n",
       "      <td>d</td>\n",
       "      <td>a</td>\n",
       "    </tr>\n",
       "    <tr>\n",
       "      <th>6</th>\n",
       "      <td>6</td>\n",
       "      <td>e</td>\n",
       "      <td>9.65</td>\n",
       "      <td>p</td>\n",
       "      <td>y</td>\n",
       "      <td>w</td>\n",
       "      <td>f</td>\n",
       "      <td>e</td>\n",
       "      <td>c</td>\n",
       "      <td>k</td>\n",
       "      <td>...</td>\n",
       "      <td>NaN</td>\n",
       "      <td>s</td>\n",
       "      <td>w</td>\n",
       "      <td>NaN</td>\n",
       "      <td>NaN</td>\n",
       "      <td>t</td>\n",
       "      <td>e</td>\n",
       "      <td>NaN</td>\n",
       "      <td>g</td>\n",
       "      <td>w</td>\n",
       "    </tr>\n",
       "    <tr>\n",
       "      <th>7</th>\n",
       "      <td>7</td>\n",
       "      <td>p</td>\n",
       "      <td>4.55</td>\n",
       "      <td>x</td>\n",
       "      <td>e</td>\n",
       "      <td>e</td>\n",
       "      <td>f</td>\n",
       "      <td>a</td>\n",
       "      <td>NaN</td>\n",
       "      <td>y</td>\n",
       "      <td>...</td>\n",
       "      <td>NaN</td>\n",
       "      <td>NaN</td>\n",
       "      <td>y</td>\n",
       "      <td>NaN</td>\n",
       "      <td>w</td>\n",
       "      <td>t</td>\n",
       "      <td>z</td>\n",
       "      <td>NaN</td>\n",
       "      <td>d</td>\n",
       "      <td>a</td>\n",
       "    </tr>\n",
       "    <tr>\n",
       "      <th>8</th>\n",
       "      <td>8</td>\n",
       "      <td>p</td>\n",
       "      <td>7.36</td>\n",
       "      <td>f</td>\n",
       "      <td>h</td>\n",
       "      <td>e</td>\n",
       "      <td>f</td>\n",
       "      <td>x</td>\n",
       "      <td>d</td>\n",
       "      <td>w</td>\n",
       "      <td>...</td>\n",
       "      <td>b</td>\n",
       "      <td>NaN</td>\n",
       "      <td>w</td>\n",
       "      <td>NaN</td>\n",
       "      <td>NaN</td>\n",
       "      <td>f</td>\n",
       "      <td>f</td>\n",
       "      <td>NaN</td>\n",
       "      <td>d</td>\n",
       "      <td>a</td>\n",
       "    </tr>\n",
       "    <tr>\n",
       "      <th>9</th>\n",
       "      <td>9</td>\n",
       "      <td>e</td>\n",
       "      <td>6.45</td>\n",
       "      <td>x</td>\n",
       "      <td>t</td>\n",
       "      <td>n</td>\n",
       "      <td>f</td>\n",
       "      <td>a</td>\n",
       "      <td>d</td>\n",
       "      <td>w</td>\n",
       "      <td>...</td>\n",
       "      <td>NaN</td>\n",
       "      <td>NaN</td>\n",
       "      <td>e</td>\n",
       "      <td>NaN</td>\n",
       "      <td>NaN</td>\n",
       "      <td>f</td>\n",
       "      <td>f</td>\n",
       "      <td>NaN</td>\n",
       "      <td>d</td>\n",
       "      <td>a</td>\n",
       "    </tr>\n",
       "  </tbody>\n",
       "</table>\n",
       "<p>10 rows × 22 columns</p>\n",
       "</div>"
      ],
      "text/plain": [
       "   id class  cap-diameter cap-shape cap-surface cap-color  \\\n",
       "0   0     e          8.80         f           s         u   \n",
       "1   1     p          4.51         x           h         o   \n",
       "2   2     e          6.94         f           s         b   \n",
       "3   3     e          3.88         f           y         g   \n",
       "4   4     e          5.85         x           l         w   \n",
       "5   5     p          4.30         x           t         n   \n",
       "6   6     e          9.65         p           y         w   \n",
       "7   7     p          4.55         x           e         e   \n",
       "8   8     p          7.36         f           h         e   \n",
       "9   9     e          6.45         x           t         n   \n",
       "\n",
       "  does-bruise-or-bleed gill-attachment gill-spacing gill-color  ...  \\\n",
       "0                    f               a            c          w  ...   \n",
       "1                    f               a            c          n  ...   \n",
       "2                    f               x            c          w  ...   \n",
       "3                    f               s          NaN          g  ...   \n",
       "4                    f               d          NaN          w  ...   \n",
       "5                    f               s            c          n  ...   \n",
       "6                    f               e            c          k  ...   \n",
       "7                    f               a          NaN          y  ...   \n",
       "8                    f               x            d          w  ...   \n",
       "9                    f               a            d          w  ...   \n",
       "\n",
       "   stem-root  stem-surface stem-color veil-type veil-color has-ring ring-type  \\\n",
       "0        NaN           NaN          w       NaN        NaN        f         f   \n",
       "1        NaN             y          o       NaN        NaN        t         z   \n",
       "2        NaN             s          n       NaN        NaN        f         f   \n",
       "3        NaN           NaN          w       NaN        NaN        f         f   \n",
       "4        NaN           NaN          w       NaN        NaN        f         f   \n",
       "5        NaN           NaN          w       NaN          n        t         z   \n",
       "6        NaN             s          w       NaN        NaN        t         e   \n",
       "7        NaN           NaN          y       NaN          w        t         z   \n",
       "8          b           NaN          w       NaN        NaN        f         f   \n",
       "9        NaN           NaN          e       NaN        NaN        f         f   \n",
       "\n",
       "  spore-print-color habitat season  \n",
       "0               NaN       d      a  \n",
       "1               NaN       d      w  \n",
       "2               NaN       l      w  \n",
       "3               NaN       d      u  \n",
       "4               NaN       g      a  \n",
       "5               NaN       d      a  \n",
       "6               NaN       g      w  \n",
       "7               NaN       d      a  \n",
       "8               NaN       d      a  \n",
       "9               NaN       d      a  \n",
       "\n",
       "[10 rows x 22 columns]"
      ]
     },
     "execution_count": 2,
     "metadata": {},
     "output_type": "execute_result"
    }
   ],
   "source": [
    "#Import training set\n",
    "df = pd.read_csv(r'/kaggle/input/playground-series-s4e8/train.csv')\n",
    "\n",
    "#Look at head of data\n",
    "df.head(10)"
   ]
  },
  {
   "cell_type": "code",
   "execution_count": 3,
   "id": "8c972f9c",
   "metadata": {
    "execution": {
     "iopub.execute_input": "2024-08-19T23:54:26.196961Z",
     "iopub.status.busy": "2024-08-19T23:54:26.195357Z",
     "iopub.status.idle": "2024-08-19T23:54:26.217346Z",
     "shell.execute_reply": "2024-08-19T23:54:26.216260Z"
    },
    "papermill": {
     "duration": 0.035052,
     "end_time": "2024-08-19T23:54:26.220362",
     "exception": false,
     "start_time": "2024-08-19T23:54:26.185310",
     "status": "completed"
    },
    "tags": []
   },
   "outputs": [
    {
     "name": "stdout",
     "output_type": "stream",
     "text": [
      "<class 'pandas.core.frame.DataFrame'>\n",
      "RangeIndex: 3116945 entries, 0 to 3116944\n",
      "Data columns (total 22 columns):\n",
      " #   Column                Dtype  \n",
      "---  ------                -----  \n",
      " 0   id                    int64  \n",
      " 1   class                 object \n",
      " 2   cap-diameter          float64\n",
      " 3   cap-shape             object \n",
      " 4   cap-surface           object \n",
      " 5   cap-color             object \n",
      " 6   does-bruise-or-bleed  object \n",
      " 7   gill-attachment       object \n",
      " 8   gill-spacing          object \n",
      " 9   gill-color            object \n",
      " 10  stem-height           float64\n",
      " 11  stem-width            float64\n",
      " 12  stem-root             object \n",
      " 13  stem-surface          object \n",
      " 14  stem-color            object \n",
      " 15  veil-type             object \n",
      " 16  veil-color            object \n",
      " 17  has-ring              object \n",
      " 18  ring-type             object \n",
      " 19  spore-print-color     object \n",
      " 20  habitat               object \n",
      " 21  season                object \n",
      "dtypes: float64(3), int64(1), object(18)\n",
      "memory usage: 523.2+ MB\n"
     ]
    }
   ],
   "source": [
    "#Let's also get a look at the columns themselves\n",
    "df.info()"
   ]
  },
  {
   "cell_type": "code",
   "execution_count": 4,
   "id": "1fde3454",
   "metadata": {
    "execution": {
     "iopub.execute_input": "2024-08-19T23:54:26.239535Z",
     "iopub.status.busy": "2024-08-19T23:54:26.239107Z",
     "iopub.status.idle": "2024-08-19T23:54:31.245532Z",
     "shell.execute_reply": "2024-08-19T23:54:31.244437Z"
    },
    "papermill": {
     "duration": 5.019056,
     "end_time": "2024-08-19T23:54:31.248415",
     "exception": false,
     "start_time": "2024-08-19T23:54:26.229359",
     "status": "completed"
    },
    "tags": []
   },
   "outputs": [
    {
     "data": {
      "text/plain": [
       "id                            0\n",
       "class                         0\n",
       "cap-diameter                  4\n",
       "cap-shape                    40\n",
       "cap-surface              671023\n",
       "cap-color                    12\n",
       "does-bruise-or-bleed          8\n",
       "gill-attachment          523936\n",
       "gill-spacing            1258435\n",
       "gill-color                   57\n",
       "stem-height                   0\n",
       "stem-width                    0\n",
       "stem-root               2757023\n",
       "stem-surface            1980861\n",
       "stem-color                   38\n",
       "veil-type               2957493\n",
       "veil-color              2740947\n",
       "has-ring                     24\n",
       "ring-type                128880\n",
       "spore-print-color       2849682\n",
       "habitat                      45\n",
       "season                        0\n",
       "dtype: int64"
      ]
     },
     "execution_count": 4,
     "metadata": {},
     "output_type": "execute_result"
    }
   ],
   "source": [
    "#There appears to be many missing values in some of the columns, lets get null value counts\n",
    "df.isnull().sum()"
   ]
  },
  {
   "cell_type": "code",
   "execution_count": 5,
   "id": "8b34f3d8",
   "metadata": {
    "execution": {
     "iopub.execute_input": "2024-08-19T23:54:31.269936Z",
     "iopub.status.busy": "2024-08-19T23:54:31.269372Z",
     "iopub.status.idle": "2024-08-19T23:54:36.296453Z",
     "shell.execute_reply": "2024-08-19T23:54:36.295317Z"
    },
    "papermill": {
     "duration": 5.041239,
     "end_time": "2024-08-19T23:54:36.299015",
     "exception": false,
     "start_time": "2024-08-19T23:54:31.257776",
     "status": "completed"
    },
    "tags": []
   },
   "outputs": [
    {
     "data": {
      "text/html": [
       "<div>\n",
       "<style scoped>\n",
       "    .dataframe tbody tr th:only-of-type {\n",
       "        vertical-align: middle;\n",
       "    }\n",
       "\n",
       "    .dataframe tbody tr th {\n",
       "        vertical-align: top;\n",
       "    }\n",
       "\n",
       "    .dataframe thead th {\n",
       "        text-align: right;\n",
       "    }\n",
       "</style>\n",
       "<table border=\"1\" class=\"dataframe\">\n",
       "  <thead>\n",
       "    <tr style=\"text-align: right;\">\n",
       "      <th></th>\n",
       "      <th>id</th>\n",
       "      <th>class</th>\n",
       "      <th>cap-diameter</th>\n",
       "      <th>cap-shape</th>\n",
       "      <th>cap-surface</th>\n",
       "      <th>cap-color</th>\n",
       "      <th>does-bruise-or-bleed</th>\n",
       "      <th>gill-attachment</th>\n",
       "      <th>gill-spacing</th>\n",
       "      <th>gill-color</th>\n",
       "      <th>...</th>\n",
       "      <th>stem-root</th>\n",
       "      <th>stem-surface</th>\n",
       "      <th>stem-color</th>\n",
       "      <th>veil-type</th>\n",
       "      <th>veil-color</th>\n",
       "      <th>has-ring</th>\n",
       "      <th>ring-type</th>\n",
       "      <th>spore-print-color</th>\n",
       "      <th>habitat</th>\n",
       "      <th>season</th>\n",
       "    </tr>\n",
       "  </thead>\n",
       "  <tbody>\n",
       "  </tbody>\n",
       "</table>\n",
       "<p>0 rows × 22 columns</p>\n",
       "</div>"
      ],
      "text/plain": [
       "Empty DataFrame\n",
       "Columns: [id, class, cap-diameter, cap-shape, cap-surface, cap-color, does-bruise-or-bleed, gill-attachment, gill-spacing, gill-color, stem-height, stem-width, stem-root, stem-surface, stem-color, veil-type, veil-color, has-ring, ring-type, spore-print-color, habitat, season]\n",
       "Index: []\n",
       "\n",
       "[0 rows x 22 columns]"
      ]
     },
     "execution_count": 5,
     "metadata": {},
     "output_type": "execute_result"
    }
   ],
   "source": [
    "#Looks like a few columns are missing quite a few values.\n",
    "#Lets first drop all nulls and see what we're left with. We'll create a new dataframe so we don't mess up the data.\n",
    "df_drop_na = df.dropna()\n",
    "df_drop_na.head()"
   ]
  },
  {
   "cell_type": "code",
   "execution_count": 6,
   "id": "ec0a4f7d",
   "metadata": {
    "execution": {
     "iopub.execute_input": "2024-08-19T23:54:36.319347Z",
     "iopub.status.busy": "2024-08-19T23:54:36.318948Z",
     "iopub.status.idle": "2024-08-19T23:54:44.706125Z",
     "shell.execute_reply": "2024-08-19T23:54:44.704761Z"
    },
    "papermill": {
     "duration": 8.400659,
     "end_time": "2024-08-19T23:54:44.709190",
     "exception": false,
     "start_time": "2024-08-19T23:54:36.308531",
     "status": "completed"
    },
    "tags": []
   },
   "outputs": [
    {
     "data": {
      "text/plain": [
       "id                           0\n",
       "class                        0\n",
       "cap-diameter                 4\n",
       "cap-shape                   40\n",
       "cap-color                   12\n",
       "does-bruise-or-bleed         8\n",
       "gill-color                  57\n",
       "stem-height                  0\n",
       "stem-width                   0\n",
       "stem-color                  38\n",
       "has-ring                    24\n",
       "ring-type               128880\n",
       "habitat                     45\n",
       "season                       0\n",
       "dtype: int64"
      ]
     },
     "execution_count": 6,
     "metadata": {},
     "output_type": "execute_result"
    }
   ],
   "source": [
    "#Obviously that didn't work. Let's try a different approach. \n",
    "#Let's create a new datafram where we drop all the columns that are missing more than 500000 points.\n",
    "cols_to_drop = [col for col in df.columns\n",
    "                if df[col].isnull().sum() > 500000]\n",
    "\n",
    "df_dropped = df.drop(cols_to_drop, axis=1)\n",
    "df_dropped.isnull().sum()"
   ]
  },
  {
   "cell_type": "code",
   "execution_count": 7,
   "id": "63b7f259",
   "metadata": {
    "execution": {
     "iopub.execute_input": "2024-08-19T23:54:44.729382Z",
     "iopub.status.busy": "2024-08-19T23:54:44.728965Z",
     "iopub.status.idle": "2024-08-19T23:54:45.157507Z",
     "shell.execute_reply": "2024-08-19T23:54:45.156523Z"
    },
    "papermill": {
     "duration": 0.441635,
     "end_time": "2024-08-19T23:54:45.160066",
     "exception": false,
     "start_time": "2024-08-19T23:54:44.718431",
     "status": "completed"
    },
    "tags": []
   },
   "outputs": [
    {
     "data": {
      "text/plain": [
       "does-bruise-or-bleed\n",
       "f           2569743\n",
       "t            547085\n",
       "w                14\n",
       "c                11\n",
       "h                 9\n",
       "a                 7\n",
       "b                 7\n",
       "x                 7\n",
       "y                 7\n",
       "k                 6\n",
       "s                 6\n",
       "e                 4\n",
       "l                 4\n",
       "p                 4\n",
       "d                 4\n",
       "g                 3\n",
       "z                 3\n",
       "o                 3\n",
       "i                 2\n",
       "n                 2\n",
       "r                 1\n",
       "has-ring          1\n",
       "3.43              1\n",
       "4.42              1\n",
       "2.9               1\n",
       "u                 1\n",
       "Name: count, dtype: int64"
      ]
     },
     "execution_count": 7,
     "metadata": {},
     "output_type": "execute_result"
    }
   ],
   "source": [
    "#Let's look at some individual columns for a second. For the 'does-bruise-or-bleed' column, we should only have false or true as the entries. However...\n",
    "df_dropped['does-bruise-or-bleed'].value_counts()"
   ]
  },
  {
   "cell_type": "code",
   "execution_count": 8,
   "id": "56cab40e",
   "metadata": {
    "execution": {
     "iopub.execute_input": "2024-08-19T23:54:45.181598Z",
     "iopub.status.busy": "2024-08-19T23:54:45.180635Z",
     "iopub.status.idle": "2024-08-19T23:54:45.605497Z",
     "shell.execute_reply": "2024-08-19T23:54:45.604335Z"
    },
    "papermill": {
     "duration": 0.438292,
     "end_time": "2024-08-19T23:54:45.607909",
     "exception": false,
     "start_time": "2024-08-19T23:54:45.169617",
     "status": "completed"
    },
    "tags": []
   },
   "outputs": [
    {
     "data": {
      "text/plain": [
       "ring-type\n",
       "f                       2477170\n",
       "e                        120006\n",
       "z                        113780\n",
       "l                         73443\n",
       "r                         67909\n",
       "p                         67678\n",
       "g                         63687\n",
       "m                          3992\n",
       "t                            98\n",
       "d                            37\n",
       "n                            34\n",
       "x                            32\n",
       "b                            29\n",
       "y                            25\n",
       "s                            18\n",
       "k                            18\n",
       "a                            16\n",
       "h                            15\n",
       "w                            14\n",
       "u                            13\n",
       "c                            11\n",
       "o                             9\n",
       "ring-type                     7\n",
       "i                             4\n",
       "does f                        3\n",
       "season                        3\n",
       "15                            1\n",
       "14                            1\n",
       "2.87                          1\n",
       "sp                            1\n",
       "class                         1\n",
       "spore-print-color             1\n",
       "2                             1\n",
       "11                            1\n",
       "1                             1\n",
       "23.6                          1\n",
       "4                             1\n",
       "does-bruise-or-bleed          1\n",
       "3.12                          1\n",
       "8.25                          1\n",
       "Name: count, dtype: int64"
      ]
     },
     "execution_count": 8,
     "metadata": {},
     "output_type": "execute_result"
    }
   ],
   "source": [
    "#Let's look at 'ring-type' column as well, which has the most missing values right now.\n",
    "df_dropped['ring-type'].value_counts()"
   ]
  },
  {
   "cell_type": "code",
   "execution_count": 9,
   "id": "ca8aeddc",
   "metadata": {
    "execution": {
     "iopub.execute_input": "2024-08-19T23:54:45.629639Z",
     "iopub.status.busy": "2024-08-19T23:54:45.628774Z",
     "iopub.status.idle": "2024-08-19T23:54:57.059310Z",
     "shell.execute_reply": "2024-08-19T23:54:57.058174Z"
    },
    "papermill": {
     "duration": 11.444268,
     "end_time": "2024-08-19T23:54:57.061868",
     "exception": false,
     "start_time": "2024-08-19T23:54:45.617600",
     "status": "completed"
    },
    "tags": []
   },
   "outputs": [
    {
     "name": "stdout",
     "output_type": "stream",
     "text": [
      "<class 'pandas.core.frame.DataFrame'>\n",
      "Index: 2984742 entries, 0 to 3116944\n",
      "Data columns (total 14 columns):\n",
      " #   Column                Dtype  \n",
      "---  ------                -----  \n",
      " 0   id                    int64  \n",
      " 1   class                 object \n",
      " 2   cap-diameter          float64\n",
      " 3   cap-shape             object \n",
      " 4   cap-color             object \n",
      " 5   does-bruise-or-bleed  object \n",
      " 6   gill-color            object \n",
      " 7   stem-height           float64\n",
      " 8   stem-width            float64\n",
      " 9   stem-color            object \n",
      " 10  has-ring              object \n",
      " 11  ring-type             object \n",
      " 12  habitat               object \n",
      " 13  season                object \n",
      "dtypes: float64(3), int64(1), object(10)\n",
      "memory usage: 341.6+ MB\n"
     ]
    }
   ],
   "source": [
    "# It seems that every column is littered with these random values which clutter the data. Let's clean it up by removing any values that appear less than 1000 times in any column.\n",
    "df_cleaned = df_dropped.copy()\n",
    "\n",
    "for col in df_cleaned.columns:\n",
    "    if df_cleaned[col].dtype != 'object':\n",
    "        continue\n",
    "    else:\n",
    "        counts = df_cleaned[col].value_counts()\n",
    "        valids = counts[counts > 1000].index\n",
    "        df_cleaned = df_cleaned[df_cleaned[col].isin(valids)]\n",
    "\n",
    "df_cleaned.info()"
   ]
  },
  {
   "cell_type": "code",
   "execution_count": 10,
   "id": "f65042ca",
   "metadata": {
    "execution": {
     "iopub.execute_input": "2024-08-19T23:54:57.084014Z",
     "iopub.status.busy": "2024-08-19T23:54:57.083026Z",
     "iopub.status.idle": "2024-08-19T23:55:04.008774Z",
     "shell.execute_reply": "2024-08-19T23:55:04.007633Z"
    },
    "papermill": {
     "duration": 6.939446,
     "end_time": "2024-08-19T23:55:04.011424",
     "exception": false,
     "start_time": "2024-08-19T23:54:57.071978",
     "status": "completed"
    },
    "tags": []
   },
   "outputs": [
    {
     "data": {
      "text/plain": [
       "id                      0\n",
       "class                   0\n",
       "cap-diameter            0\n",
       "cap-shape               0\n",
       "cap-color               0\n",
       "does-bruise-or-bleed    0\n",
       "gill-color              0\n",
       "stem-height             0\n",
       "stem-width              0\n",
       "stem-color              0\n",
       "has-ring                0\n",
       "ring-type               0\n",
       "habitat                 0\n",
       "season                  0\n",
       "dtype: int64"
      ]
     },
     "execution_count": 10,
     "metadata": {},
     "output_type": "execute_result"
    }
   ],
   "source": [
    "# Finally we drop any remaining nulls to remove the issues with the float variables and finalize our clean dataset.\n",
    "df_cleaned = df_cleaned.dropna()\n",
    "df_cleaned.isnull().sum()"
   ]
  },
  {
   "cell_type": "code",
   "execution_count": 11,
   "id": "2e325450",
   "metadata": {
    "execution": {
     "iopub.execute_input": "2024-08-19T23:55:04.034058Z",
     "iopub.status.busy": "2024-08-19T23:55:04.033699Z",
     "iopub.status.idle": "2024-08-19T23:55:04.946676Z",
     "shell.execute_reply": "2024-08-19T23:55:04.945409Z"
    },
    "papermill": {
     "duration": 0.927585,
     "end_time": "2024-08-19T23:55:04.949272",
     "exception": false,
     "start_time": "2024-08-19T23:55:04.021687",
     "status": "completed"
    },
    "tags": []
   },
   "outputs": [
    {
     "data": {
      "text/html": [
       "<div>\n",
       "<style scoped>\n",
       "    .dataframe tbody tr th:only-of-type {\n",
       "        vertical-align: middle;\n",
       "    }\n",
       "\n",
       "    .dataframe tbody tr th {\n",
       "        vertical-align: top;\n",
       "    }\n",
       "\n",
       "    .dataframe thead th {\n",
       "        text-align: right;\n",
       "    }\n",
       "</style>\n",
       "<table border=\"1\" class=\"dataframe\">\n",
       "  <thead>\n",
       "    <tr style=\"text-align: right;\">\n",
       "      <th></th>\n",
       "      <th>class</th>\n",
       "      <th>cap-diameter</th>\n",
       "      <th>cap-shape</th>\n",
       "      <th>cap-color</th>\n",
       "      <th>does-bruise-or-bleed</th>\n",
       "      <th>gill-color</th>\n",
       "      <th>stem-height</th>\n",
       "      <th>stem-width</th>\n",
       "      <th>stem-color</th>\n",
       "      <th>has-ring</th>\n",
       "      <th>ring-type</th>\n",
       "      <th>habitat</th>\n",
       "      <th>season</th>\n",
       "    </tr>\n",
       "  </thead>\n",
       "  <tbody>\n",
       "    <tr>\n",
       "      <th>0</th>\n",
       "      <td>e</td>\n",
       "      <td>8.80</td>\n",
       "      <td>f</td>\n",
       "      <td>u</td>\n",
       "      <td>f</td>\n",
       "      <td>w</td>\n",
       "      <td>4.51</td>\n",
       "      <td>15.39</td>\n",
       "      <td>w</td>\n",
       "      <td>f</td>\n",
       "      <td>f</td>\n",
       "      <td>d</td>\n",
       "      <td>a</td>\n",
       "    </tr>\n",
       "    <tr>\n",
       "      <th>1</th>\n",
       "      <td>p</td>\n",
       "      <td>4.51</td>\n",
       "      <td>x</td>\n",
       "      <td>o</td>\n",
       "      <td>f</td>\n",
       "      <td>n</td>\n",
       "      <td>4.79</td>\n",
       "      <td>6.48</td>\n",
       "      <td>o</td>\n",
       "      <td>t</td>\n",
       "      <td>z</td>\n",
       "      <td>d</td>\n",
       "      <td>w</td>\n",
       "    </tr>\n",
       "    <tr>\n",
       "      <th>2</th>\n",
       "      <td>e</td>\n",
       "      <td>6.94</td>\n",
       "      <td>f</td>\n",
       "      <td>b</td>\n",
       "      <td>f</td>\n",
       "      <td>w</td>\n",
       "      <td>6.85</td>\n",
       "      <td>9.93</td>\n",
       "      <td>n</td>\n",
       "      <td>f</td>\n",
       "      <td>f</td>\n",
       "      <td>l</td>\n",
       "      <td>w</td>\n",
       "    </tr>\n",
       "    <tr>\n",
       "      <th>3</th>\n",
       "      <td>e</td>\n",
       "      <td>3.88</td>\n",
       "      <td>f</td>\n",
       "      <td>g</td>\n",
       "      <td>f</td>\n",
       "      <td>g</td>\n",
       "      <td>4.16</td>\n",
       "      <td>6.53</td>\n",
       "      <td>w</td>\n",
       "      <td>f</td>\n",
       "      <td>f</td>\n",
       "      <td>d</td>\n",
       "      <td>u</td>\n",
       "    </tr>\n",
       "    <tr>\n",
       "      <th>4</th>\n",
       "      <td>e</td>\n",
       "      <td>5.85</td>\n",
       "      <td>x</td>\n",
       "      <td>w</td>\n",
       "      <td>f</td>\n",
       "      <td>w</td>\n",
       "      <td>3.37</td>\n",
       "      <td>8.36</td>\n",
       "      <td>w</td>\n",
       "      <td>f</td>\n",
       "      <td>f</td>\n",
       "      <td>g</td>\n",
       "      <td>a</td>\n",
       "    </tr>\n",
       "  </tbody>\n",
       "</table>\n",
       "</div>"
      ],
      "text/plain": [
       "  class  cap-diameter cap-shape cap-color does-bruise-or-bleed gill-color  \\\n",
       "0     e          8.80         f         u                    f          w   \n",
       "1     p          4.51         x         o                    f          n   \n",
       "2     e          6.94         f         b                    f          w   \n",
       "3     e          3.88         f         g                    f          g   \n",
       "4     e          5.85         x         w                    f          w   \n",
       "\n",
       "   stem-height  stem-width stem-color has-ring ring-type habitat season  \n",
       "0         4.51       15.39          w        f         f       d      a  \n",
       "1         4.79        6.48          o        t         z       d      w  \n",
       "2         6.85        9.93          n        f         f       l      w  \n",
       "3         4.16        6.53          w        f         f       d      u  \n",
       "4         3.37        8.36          w        f         f       g      a  "
      ]
     },
     "execution_count": 11,
     "metadata": {},
     "output_type": "execute_result"
    }
   ],
   "source": [
    "df_cleaned = df_cleaned.drop('id', axis=1).reset_index(drop=True)\n",
    "df_cleaned.head()"
   ]
  },
  {
   "cell_type": "code",
   "execution_count": 12,
   "id": "a4ed7388",
   "metadata": {
    "execution": {
     "iopub.execute_input": "2024-08-19T23:55:04.972283Z",
     "iopub.status.busy": "2024-08-19T23:55:04.971870Z",
     "iopub.status.idle": "2024-08-19T23:55:15.646179Z",
     "shell.execute_reply": "2024-08-19T23:55:15.645081Z"
    },
    "papermill": {
     "duration": 10.688889,
     "end_time": "2024-08-19T23:55:15.649004",
     "exception": false,
     "start_time": "2024-08-19T23:55:04.960115",
     "status": "completed"
    },
    "tags": []
   },
   "outputs": [],
   "source": [
    "# Import modules from sklearn\n",
    "from sklearn.ensemble import RandomForestClassifier\n",
    "from sklearn.model_selection import train_test_split\n",
    "\n",
    "#Setup data with train/test splits\n",
    "Y = df_cleaned['class'].copy()\n",
    "X = df_cleaned.drop('class', axis=1)\n",
    "X = pd.get_dummies(X, drop_first=True, dtype=float)\n",
    "X_train, X_test, Y_train, Y_test = train_test_split(X, Y, test_size = 0.3, random_state = 0)"
   ]
  },
  {
   "cell_type": "code",
   "execution_count": 13,
   "id": "81a729c6",
   "metadata": {
    "execution": {
     "iopub.execute_input": "2024-08-19T23:55:15.672617Z",
     "iopub.status.busy": "2024-08-19T23:55:15.672157Z",
     "iopub.status.idle": "2024-08-19T23:55:15.677668Z",
     "shell.execute_reply": "2024-08-19T23:55:15.676509Z"
    },
    "papermill": {
     "duration": 0.020778,
     "end_time": "2024-08-19T23:55:15.680413",
     "exception": false,
     "start_time": "2024-08-19T23:55:15.659635",
     "status": "completed"
    },
    "tags": []
   },
   "outputs": [],
   "source": [
    "#Create our initial random forest model\n",
    "forest = RandomForestClassifier(n_estimators = 10)"
   ]
  },
  {
   "cell_type": "code",
   "execution_count": 14,
   "id": "12f84c2f",
   "metadata": {
    "execution": {
     "iopub.execute_input": "2024-08-19T23:55:15.703695Z",
     "iopub.status.busy": "2024-08-19T23:55:15.702509Z",
     "iopub.status.idle": "2024-08-19T23:56:46.468036Z",
     "shell.execute_reply": "2024-08-19T23:56:46.466471Z"
    },
    "papermill": {
     "duration": 90.789476,
     "end_time": "2024-08-19T23:56:46.480522",
     "exception": false,
     "start_time": "2024-08-19T23:55:15.691046",
     "status": "completed"
    },
    "tags": []
   },
   "outputs": [
    {
     "data": {
      "text/html": [
       "<style>#sk-container-id-1 {color: black;background-color: white;}#sk-container-id-1 pre{padding: 0;}#sk-container-id-1 div.sk-toggleable {background-color: white;}#sk-container-id-1 label.sk-toggleable__label {cursor: pointer;display: block;width: 100%;margin-bottom: 0;padding: 0.3em;box-sizing: border-box;text-align: center;}#sk-container-id-1 label.sk-toggleable__label-arrow:before {content: \"▸\";float: left;margin-right: 0.25em;color: #696969;}#sk-container-id-1 label.sk-toggleable__label-arrow:hover:before {color: black;}#sk-container-id-1 div.sk-estimator:hover label.sk-toggleable__label-arrow:before {color: black;}#sk-container-id-1 div.sk-toggleable__content {max-height: 0;max-width: 0;overflow: hidden;text-align: left;background-color: #f0f8ff;}#sk-container-id-1 div.sk-toggleable__content pre {margin: 0.2em;color: black;border-radius: 0.25em;background-color: #f0f8ff;}#sk-container-id-1 input.sk-toggleable__control:checked~div.sk-toggleable__content {max-height: 200px;max-width: 100%;overflow: auto;}#sk-container-id-1 input.sk-toggleable__control:checked~label.sk-toggleable__label-arrow:before {content: \"▾\";}#sk-container-id-1 div.sk-estimator input.sk-toggleable__control:checked~label.sk-toggleable__label {background-color: #d4ebff;}#sk-container-id-1 div.sk-label input.sk-toggleable__control:checked~label.sk-toggleable__label {background-color: #d4ebff;}#sk-container-id-1 input.sk-hidden--visually {border: 0;clip: rect(1px 1px 1px 1px);clip: rect(1px, 1px, 1px, 1px);height: 1px;margin: -1px;overflow: hidden;padding: 0;position: absolute;width: 1px;}#sk-container-id-1 div.sk-estimator {font-family: monospace;background-color: #f0f8ff;border: 1px dotted black;border-radius: 0.25em;box-sizing: border-box;margin-bottom: 0.5em;}#sk-container-id-1 div.sk-estimator:hover {background-color: #d4ebff;}#sk-container-id-1 div.sk-parallel-item::after {content: \"\";width: 100%;border-bottom: 1px solid gray;flex-grow: 1;}#sk-container-id-1 div.sk-label:hover label.sk-toggleable__label {background-color: #d4ebff;}#sk-container-id-1 div.sk-serial::before {content: \"\";position: absolute;border-left: 1px solid gray;box-sizing: border-box;top: 0;bottom: 0;left: 50%;z-index: 0;}#sk-container-id-1 div.sk-serial {display: flex;flex-direction: column;align-items: center;background-color: white;padding-right: 0.2em;padding-left: 0.2em;position: relative;}#sk-container-id-1 div.sk-item {position: relative;z-index: 1;}#sk-container-id-1 div.sk-parallel {display: flex;align-items: stretch;justify-content: center;background-color: white;position: relative;}#sk-container-id-1 div.sk-item::before, #sk-container-id-1 div.sk-parallel-item::before {content: \"\";position: absolute;border-left: 1px solid gray;box-sizing: border-box;top: 0;bottom: 0;left: 50%;z-index: -1;}#sk-container-id-1 div.sk-parallel-item {display: flex;flex-direction: column;z-index: 1;position: relative;background-color: white;}#sk-container-id-1 div.sk-parallel-item:first-child::after {align-self: flex-end;width: 50%;}#sk-container-id-1 div.sk-parallel-item:last-child::after {align-self: flex-start;width: 50%;}#sk-container-id-1 div.sk-parallel-item:only-child::after {width: 0;}#sk-container-id-1 div.sk-dashed-wrapped {border: 1px dashed gray;margin: 0 0.4em 0.5em 0.4em;box-sizing: border-box;padding-bottom: 0.4em;background-color: white;}#sk-container-id-1 div.sk-label label {font-family: monospace;font-weight: bold;display: inline-block;line-height: 1.2em;}#sk-container-id-1 div.sk-label-container {text-align: center;}#sk-container-id-1 div.sk-container {/* jupyter's `normalize.less` sets `[hidden] { display: none; }` but bootstrap.min.css set `[hidden] { display: none !important; }` so we also need the `!important` here to be able to override the default hidden behavior on the sphinx rendered scikit-learn.org. See: https://github.com/scikit-learn/scikit-learn/issues/21755 */display: inline-block !important;position: relative;}#sk-container-id-1 div.sk-text-repr-fallback {display: none;}</style><div id=\"sk-container-id-1\" class=\"sk-top-container\"><div class=\"sk-text-repr-fallback\"><pre>RandomForestClassifier(n_estimators=10)</pre><b>In a Jupyter environment, please rerun this cell to show the HTML representation or trust the notebook. <br />On GitHub, the HTML representation is unable to render, please try loading this page with nbviewer.org.</b></div><div class=\"sk-container\" hidden><div class=\"sk-item\"><div class=\"sk-estimator sk-toggleable\"><input class=\"sk-toggleable__control sk-hidden--visually\" id=\"sk-estimator-id-1\" type=\"checkbox\" checked><label for=\"sk-estimator-id-1\" class=\"sk-toggleable__label sk-toggleable__label-arrow\">RandomForestClassifier</label><div class=\"sk-toggleable__content\"><pre>RandomForestClassifier(n_estimators=10)</pre></div></div></div></div></div>"
      ],
      "text/plain": [
       "RandomForestClassifier(n_estimators=10)"
      ]
     },
     "execution_count": 14,
     "metadata": {},
     "output_type": "execute_result"
    }
   ],
   "source": [
    "# Fit model (note, was not initally fit because I was messing with number of trees so it didn't take an hour to run)\n",
    "forest.fit(X_train, Y_train)"
   ]
  },
  {
   "cell_type": "code",
   "execution_count": 15,
   "id": "bcb8ca5f",
   "metadata": {
    "execution": {
     "iopub.execute_input": "2024-08-19T23:56:46.504066Z",
     "iopub.status.busy": "2024-08-19T23:56:46.503107Z",
     "iopub.status.idle": "2024-08-19T23:56:55.682250Z",
     "shell.execute_reply": "2024-08-19T23:56:55.680972Z"
    },
    "papermill": {
     "duration": 9.193786,
     "end_time": "2024-08-19T23:56:55.684782",
     "exception": false,
     "start_time": "2024-08-19T23:56:46.490996",
     "status": "completed"
    },
    "tags": []
   },
   "outputs": [
    {
     "data": {
      "text/plain": [
       "0.9812200280984832"
      ]
     },
     "execution_count": 15,
     "metadata": {},
     "output_type": "execute_result"
    }
   ],
   "source": [
    "# Print score on testing set\n",
    "forest.score(X_test, Y_test)"
   ]
  },
  {
   "cell_type": "code",
   "execution_count": 16,
   "id": "fe60c08a",
   "metadata": {
    "execution": {
     "iopub.execute_input": "2024-08-19T23:56:55.708147Z",
     "iopub.status.busy": "2024-08-19T23:56:55.707775Z",
     "iopub.status.idle": "2024-08-20T00:07:59.114970Z",
     "shell.execute_reply": "2024-08-20T00:07:59.113664Z"
    },
    "papermill": {
     "duration": 663.42302,
     "end_time": "2024-08-20T00:07:59.119007",
     "exception": false,
     "start_time": "2024-08-19T23:56:55.695987",
     "status": "completed"
    },
    "tags": []
   },
   "outputs": [],
   "source": [
    "# Looks good for an initial submission! Let's recreate and fit the model to the entire X set, then create a submission for the competition.\n",
    "forest = RandomForestClassifier(n_estimators = 50).fit(X, Y)"
   ]
  },
  {
   "cell_type": "code",
   "execution_count": 17,
   "id": "12547a57",
   "metadata": {
    "execution": {
     "iopub.execute_input": "2024-08-20T00:07:59.143209Z",
     "iopub.status.busy": "2024-08-20T00:07:59.142389Z",
     "iopub.status.idle": "2024-08-20T00:08:09.497942Z",
     "shell.execute_reply": "2024-08-20T00:08:09.496931Z"
    },
    "papermill": {
     "duration": 10.370507,
     "end_time": "2024-08-20T00:08:09.500621",
     "exception": false,
     "start_time": "2024-08-20T00:07:59.130114",
     "status": "completed"
    },
    "tags": []
   },
   "outputs": [
    {
     "data": {
      "text/plain": [
       "cap-diameter                  7\n",
       "cap-shape                    31\n",
       "cap-surface              446904\n",
       "cap-color                    13\n",
       "does-bruise-or-bleed         10\n",
       "gill-attachment          349821\n",
       "gill-spacing             839595\n",
       "gill-color                   49\n",
       "stem-height                   1\n",
       "stem-width                    0\n",
       "stem-root               1838012\n",
       "stem-surface            1321488\n",
       "stem-color                   21\n",
       "veil-type               1971545\n",
       "veil-color              1826124\n",
       "has-ring                     19\n",
       "ring-type                 86195\n",
       "spore-print-color       1899617\n",
       "habitat                      25\n",
       "season                        0\n",
       "dtype: int64"
      ]
     },
     "execution_count": 17,
     "metadata": {},
     "output_type": "execute_result"
    }
   ],
   "source": [
    "# Import test data and clean it\n",
    "test_data = pd.read_csv(r'/kaggle/input/playground-series-s4e8/test.csv', index_col='id')\n",
    "test_data.isnull().sum()"
   ]
  },
  {
   "cell_type": "code",
   "execution_count": 18,
   "id": "8cac1473",
   "metadata": {
    "execution": {
     "iopub.execute_input": "2024-08-20T00:08:09.525110Z",
     "iopub.status.busy": "2024-08-20T00:08:09.524706Z",
     "iopub.status.idle": "2024-08-20T00:08:09.832020Z",
     "shell.execute_reply": "2024-08-20T00:08:09.830839Z"
    },
    "papermill": {
     "duration": 0.322365,
     "end_time": "2024-08-20T00:08:09.834714",
     "exception": false,
     "start_time": "2024-08-20T00:08:09.512349",
     "status": "completed"
    },
    "tags": []
   },
   "outputs": [
    {
     "name": "stdout",
     "output_type": "stream",
     "text": [
      "<class 'pandas.core.frame.DataFrame'>\n",
      "Index: 2077964 entries, 3116945 to 5194908\n",
      "Data columns (total 12 columns):\n",
      " #   Column                Dtype  \n",
      "---  ------                -----  \n",
      " 0   cap-diameter          float64\n",
      " 1   cap-shape             object \n",
      " 2   cap-color             object \n",
      " 3   does-bruise-or-bleed  object \n",
      " 4   gill-color            object \n",
      " 5   stem-height           float64\n",
      " 6   stem-width            float64\n",
      " 7   stem-color            object \n",
      " 8   has-ring              object \n",
      " 9   ring-type             object \n",
      " 10  habitat               object \n",
      " 11  season                object \n",
      "dtypes: float64(3), object(9)\n",
      "memory usage: 206.1+ MB\n"
     ]
    }
   ],
   "source": [
    "#Drop columns that we removed in the training data\n",
    "test_data = test_data.drop(cols_to_drop, axis=1)\n",
    "test_data.info()"
   ]
  },
  {
   "cell_type": "code",
   "execution_count": 19,
   "id": "bb799ffd",
   "metadata": {
    "execution": {
     "iopub.execute_input": "2024-08-20T00:08:09.859010Z",
     "iopub.status.busy": "2024-08-20T00:08:09.858649Z",
     "iopub.status.idle": "2024-08-20T00:09:01.511065Z",
     "shell.execute_reply": "2024-08-20T00:09:01.509363Z"
    },
    "papermill": {
     "duration": 51.669173,
     "end_time": "2024-08-20T00:09:01.514687",
     "exception": false,
     "start_time": "2024-08-20T00:08:09.845514",
     "status": "completed"
    },
    "tags": []
   },
   "outputs": [],
   "source": [
    "# We need to clean the data, but due to how submissions work we obviously can't just drop rows like we did in the training set.\n",
    "# Here we impute the data.\n",
    "test_cleaned = test_data.copy()\n",
    "\n",
    "for col in test_cleaned.columns:\n",
    "    #Replace nulls in numeric data with the mean\n",
    "    if test_cleaned[col].dtype != 'object':\n",
    "        col_mean = test_cleaned[col].mean()\n",
    "        test_cleaned[col] = test_cleaned[col].fillna(col_mean)\n",
    "        \n",
    "    #For categorical variables, first identify which values appear too few times to be considered relevant/accurate.\n",
    "    else:\n",
    "        counts = test_cleaned[col].value_counts()\n",
    "        valids = counts[counts < 1000].index\n",
    "        # Now identify which value appears most\n",
    "        most_common = test_cleaned[col].value_counts().idxmax()\n",
    "        # Replace all irrelevant values with the value that appears most\n",
    "        test_cleaned[col] = test_cleaned[col].replace(valids, most_common)\n",
    "        # Finally, replace NaN with mode as well\n",
    "        test_cleaned[col] = test_cleaned[col].fillna(most_common)"
   ]
  },
  {
   "cell_type": "code",
   "execution_count": 20,
   "id": "b1ab0157",
   "metadata": {
    "execution": {
     "iopub.execute_input": "2024-08-20T00:09:01.538696Z",
     "iopub.status.busy": "2024-08-20T00:09:01.538260Z",
     "iopub.status.idle": "2024-08-20T00:09:03.509577Z",
     "shell.execute_reply": "2024-08-20T00:09:03.508494Z"
    },
    "papermill": {
     "duration": 1.986122,
     "end_time": "2024-08-20T00:09:03.512104",
     "exception": false,
     "start_time": "2024-08-20T00:09:01.525982",
     "status": "completed"
    },
    "tags": []
   },
   "outputs": [
    {
     "name": "stdout",
     "output_type": "stream",
     "text": [
      "Shape of intial test data: (2077964, 12)\n",
      "Shape of cleaned data: (2077964, 12)\n"
     ]
    },
    {
     "data": {
      "text/plain": [
       "cap-diameter            0\n",
       "cap-shape               0\n",
       "cap-color               0\n",
       "does-bruise-or-bleed    0\n",
       "gill-color              0\n",
       "stem-height             0\n",
       "stem-width              0\n",
       "stem-color              0\n",
       "has-ring                0\n",
       "ring-type               0\n",
       "habitat                 0\n",
       "season                  0\n",
       "dtype: int64"
      ]
     },
     "execution_count": 20,
     "metadata": {},
     "output_type": "execute_result"
    }
   ],
   "source": [
    "# Double check that data makes sense\n",
    "print('Shape of intial test data:', test_data.shape)\n",
    "print('Shape of cleaned data:', test_cleaned.shape)\n",
    "test_cleaned.isnull().sum()"
   ]
  },
  {
   "cell_type": "code",
   "execution_count": 21,
   "id": "f28d568d",
   "metadata": {
    "execution": {
     "iopub.execute_input": "2024-08-20T00:09:03.537733Z",
     "iopub.status.busy": "2024-08-20T00:09:03.536937Z",
     "iopub.status.idle": "2024-08-20T00:10:02.425773Z",
     "shell.execute_reply": "2024-08-20T00:10:02.424338Z"
    },
    "papermill": {
     "duration": 58.904241,
     "end_time": "2024-08-20T00:10:02.428749",
     "exception": false,
     "start_time": "2024-08-20T00:09:03.524508",
     "status": "completed"
    },
    "tags": []
   },
   "outputs": [],
   "source": [
    "# No null values, and no rows were lost, so we should be good to proceed! Let's get our dummy variables and run the predictions.\n",
    "x_test = pd.get_dummies(test_cleaned, drop_first = True, dtype = float)\n",
    "y_hat = forest.predict(x_test)"
   ]
  },
  {
   "cell_type": "code",
   "execution_count": 22,
   "id": "fc2f05e6",
   "metadata": {
    "execution": {
     "iopub.execute_input": "2024-08-20T00:10:02.453266Z",
     "iopub.status.busy": "2024-08-20T00:10:02.452846Z",
     "iopub.status.idle": "2024-08-20T00:10:05.342009Z",
     "shell.execute_reply": "2024-08-20T00:10:05.340526Z"
    },
    "papermill": {
     "duration": 2.905136,
     "end_time": "2024-08-20T00:10:05.345421",
     "exception": false,
     "start_time": "2024-08-20T00:10:02.440285",
     "status": "completed"
    },
    "tags": []
   },
   "outputs": [],
   "source": [
    "# Finally, we output to a csv file and submit!\n",
    "output = pd.DataFrame({'id': x_test.index, 'class': y_hat})\n",
    "output.to_csv('submission.csv', index=False)"
   ]
  },
  {
   "cell_type": "markdown",
   "id": "1f859633",
   "metadata": {},
   "source": [
    "Accuracy Score for the submission was: 0.95960. Not great, but not terrible. For a first solo competition I'll take it!"
   ]
  }
 ],
 "metadata": {
  "kaggle": {
   "accelerator": "none",
   "dataSources": [
    {
     "databundleVersionId": 9045607,
     "sourceId": 76727,
     "sourceType": "competition"
    }
   ],
   "dockerImageVersionId": 30746,
   "isGpuEnabled": false,
   "isInternetEnabled": false,
   "language": "python",
   "sourceType": "notebook"
  },
  "kernelspec": {
   "display_name": "Python 3",
   "language": "python",
   "name": "python3"
  },
  "language_info": {
   "codemirror_mode": {
    "name": "ipython",
    "version": 3
   },
   "file_extension": ".py",
   "mimetype": "text/x-python",
   "name": "python",
   "nbconvert_exporter": "python",
   "pygments_lexer": "ipython3",
   "version": "3.10.13"
  },
  "papermill": {
   "default_parameters": {},
   "duration": 956.64644,
   "end_time": "2024-08-20T00:10:06.785493",
   "environment_variables": {},
   "exception": null,
   "input_path": "__notebook__.ipynb",
   "output_path": "__notebook__.ipynb",
   "parameters": {},
   "start_time": "2024-08-19T23:54:10.139053",
   "version": "2.5.0"
  }
 },
 "nbformat": 4,
 "nbformat_minor": 5
}
